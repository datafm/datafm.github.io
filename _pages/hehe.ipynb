{
 "cells": [
  {
   "cell_type": "code",
   "execution_count": 1,
   "id": "8cc6a3ca",
   "metadata": {},
   "outputs": [],
   "source": [
    "import json\n",
    "import csv\n",
    "import pandas as pd"
   ]
  },
  {
   "cell_type": "code",
   "execution_count": 2,
   "id": "1bbeea56",
   "metadata": {},
   "outputs": [],
   "source": [
    "try:\n",
    "    file_path = \"reviewers.csv\"\n",
    "    df = pd.read_csv(file_path)\n",
    "except FileNotFoundError:\n",
    "    print(\"Not found.\")"
   ]
  },
  {
   "cell_type": "code",
   "execution_count": 18,
   "id": "9afedc78",
   "metadata": {},
   "outputs": [],
   "source": [
    "names = []\n",
    "\n",
    "for i in range(len(df)):\n",
    "    row = df.iloc[i]\n",
    "\n",
    "    if row['num submitted official reviews'] > 0:\n",
    "        cur_name = row['name']\n",
    "        sch = row['institution name']\n",
    "        \n",
    "        if sch != '':\n",
    "            cur_name += ', ' + sch\n",
    "        names.append(cur_name)"
   ]
  },
  {
   "cell_type": "code",
   "execution_count": 23,
   "id": "40f40405",
   "metadata": {},
   "outputs": [],
   "source": [
    "with open(\"reviewers.json\", \"w\") as f:\n",
    "    json.dump(names, f)"
   ]
  },
  {
   "cell_type": "code",
   "execution_count": 21,
   "id": "6cdc7b4a",
   "metadata": {},
   "outputs": [
    {
     "data": {
      "text/plain": [
       "58"
      ]
     },
     "execution_count": 21,
     "metadata": {},
     "output_type": "execute_result"
    }
   ],
   "source": [
    "len(names)"
   ]
  },
  {
   "cell_type": "code",
   "execution_count": 22,
   "id": "f6fc2c59",
   "metadata": {},
   "outputs": [
    {
     "data": {
      "text/plain": [
       "'Simon Park, Princeton University'"
      ]
     },
     "execution_count": 22,
     "metadata": {},
     "output_type": "execute_result"
    }
   ],
   "source": [
    "names[0]"
   ]
  },
  {
   "cell_type": "code",
   "execution_count": 16,
   "id": "0a017b52",
   "metadata": {},
   "outputs": [
    {
     "data": {
      "text/plain": [
       "2"
      ]
     },
     "execution_count": 16,
     "metadata": {},
     "output_type": "execute_result"
    }
   ],
   "source": [
    "df.iloc[0]['num submitted official reviews']"
   ]
  },
  {
   "cell_type": "code",
   "execution_count": 17,
   "id": "ac067297",
   "metadata": {},
   "outputs": [
    {
     "data": {
      "text/plain": [
       "id                                        ~Simon_Park1\n",
       "name                                        Simon Park\n",
       "institution name                  Princeton University\n",
       "institution domain                       princeton.edu\n",
       "num assigned Submissions                             2\n",
       "num submitted official reviews                       2\n",
       "Name: 0, dtype: object"
      ]
     },
     "execution_count": 17,
     "metadata": {},
     "output_type": "execute_result"
    }
   ],
   "source": [
    "df.iloc[0]"
   ]
  },
  {
   "cell_type": "code",
   "execution_count": 24,
   "id": "e5b5cc88",
   "metadata": {},
   "outputs": [],
   "source": [
    "try:\n",
    "    file_pathp = \"papers.csv\"\n",
    "    dfp = pd.read_csv(file_pathp)\n",
    "except FileNotFoundError:\n",
    "    print(\"Not found.\")"
   ]
  },
  {
   "cell_type": "code",
   "execution_count": 26,
   "id": "d0722394",
   "metadata": {},
   "outputs": [
    {
     "data": {
      "text/html": [
       "<div>\n",
       "<style scoped>\n",
       "    .dataframe tbody tr th:only-of-type {\n",
       "        vertical-align: middle;\n",
       "    }\n",
       "\n",
       "    .dataframe tbody tr th {\n",
       "        vertical-align: top;\n",
       "    }\n",
       "\n",
       "    .dataframe thead th {\n",
       "        text-align: right;\n",
       "    }\n",
       "</style>\n",
       "<table border=\"1\" class=\"dataframe\">\n",
       "  <thead>\n",
       "    <tr style=\"text-align: right;\">\n",
       "      <th></th>\n",
       "      <th>number</th>\n",
       "      <th>forum</th>\n",
       "      <th>title</th>\n",
       "      <th>abstract</th>\n",
       "      <th>num Reviewers</th>\n",
       "      <th>num submitted Reviewers</th>\n",
       "      <th>missing Reviewers</th>\n",
       "      <th>min rating</th>\n",
       "      <th>max rating</th>\n",
       "      <th>average rating</th>\n",
       "      <th>min confidence</th>\n",
       "      <th>max confidence</th>\n",
       "      <th>average confidence</th>\n",
       "      <th>num Area Chairs assigned</th>\n",
       "      <th>num submitted Area Chairs</th>\n",
       "      <th>Meta Review</th>\n",
       "      <th>decision</th>\n",
       "    </tr>\n",
       "  </thead>\n",
       "  <tbody>\n",
       "    <tr>\n",
       "      <th>0</th>\n",
       "      <td>1</td>\n",
       "      <td>https://openreview.net/forum?id=mkZB0fKLX8</td>\n",
       "      <td>Nepotistically Trained Generative Image Models...</td>\n",
       "      <td>Trained on massive amounts of human-generated ...</td>\n",
       "      <td>2</td>\n",
       "      <td>2</td>\n",
       "      <td>NaN</td>\n",
       "      <td>4</td>\n",
       "      <td>6</td>\n",
       "      <td>5.0</td>\n",
       "      <td>4</td>\n",
       "      <td>4</td>\n",
       "      <td>4.0</td>\n",
       "      <td>0</td>\n",
       "      <td>0</td>\n",
       "      <td>NaN</td>\n",
       "      <td>Accept (Poster)</td>\n",
       "    </tr>\n",
       "    <tr>\n",
       "      <th>1</th>\n",
       "      <td>3</td>\n",
       "      <td>https://openreview.net/forum?id=FNxwF8qSOc</td>\n",
       "      <td>Understanding Private Learning From Feature Pe...</td>\n",
       "      <td>Differentially private Stochastic Gradient Des...</td>\n",
       "      <td>2</td>\n",
       "      <td>2</td>\n",
       "      <td>NaN</td>\n",
       "      <td>3</td>\n",
       "      <td>8</td>\n",
       "      <td>5.5</td>\n",
       "      <td>3</td>\n",
       "      <td>4</td>\n",
       "      <td>3.5</td>\n",
       "      <td>0</td>\n",
       "      <td>0</td>\n",
       "      <td>NaN</td>\n",
       "      <td>Accept (Poster)</td>\n",
       "    </tr>\n",
       "    <tr>\n",
       "      <th>2</th>\n",
       "      <td>4</td>\n",
       "      <td>https://openreview.net/forum?id=yB9AcakeIV</td>\n",
       "      <td>Language Model Preference Evaluation with Mult...</td>\n",
       "      <td>Despite the remarkable success of Large Langua...</td>\n",
       "      <td>2</td>\n",
       "      <td>2</td>\n",
       "      <td>NaN</td>\n",
       "      <td>5</td>\n",
       "      <td>7</td>\n",
       "      <td>6.0</td>\n",
       "      <td>3</td>\n",
       "      <td>4</td>\n",
       "      <td>3.5</td>\n",
       "      <td>0</td>\n",
       "      <td>0</td>\n",
       "      <td>NaN</td>\n",
       "      <td>Accept (Poster)</td>\n",
       "    </tr>\n",
       "    <tr>\n",
       "      <th>3</th>\n",
       "      <td>5</td>\n",
       "      <td>https://openreview.net/forum?id=tK2pcnNlWw</td>\n",
       "      <td>Explaining Length Bias in LLM-Based Preference...</td>\n",
       "      <td>The use of large language models (LLMs) as jud...</td>\n",
       "      <td>2</td>\n",
       "      <td>2</td>\n",
       "      <td>NaN</td>\n",
       "      <td>6</td>\n",
       "      <td>7</td>\n",
       "      <td>6.5</td>\n",
       "      <td>3</td>\n",
       "      <td>4</td>\n",
       "      <td>3.5</td>\n",
       "      <td>0</td>\n",
       "      <td>0</td>\n",
       "      <td>NaN</td>\n",
       "      <td>Accept (Poster)</td>\n",
       "    </tr>\n",
       "    <tr>\n",
       "      <th>4</th>\n",
       "      <td>6</td>\n",
       "      <td>https://openreview.net/forum?id=AKoLN21VSu</td>\n",
       "      <td>Rule-Based Rating and Selection of LLM Trainin...</td>\n",
       "      <td>The quality of training data is crucial for th...</td>\n",
       "      <td>3</td>\n",
       "      <td>2</td>\n",
       "      <td>~Tianhao_Wang2</td>\n",
       "      <td>6</td>\n",
       "      <td>8</td>\n",
       "      <td>7.0</td>\n",
       "      <td>4</td>\n",
       "      <td>4</td>\n",
       "      <td>4.0</td>\n",
       "      <td>0</td>\n",
       "      <td>0</td>\n",
       "      <td>NaN</td>\n",
       "      <td>Accept (Poster)</td>\n",
       "    </tr>\n",
       "  </tbody>\n",
       "</table>\n",
       "</div>"
      ],
      "text/plain": [
       "   number                                       forum  \\\n",
       "0       1  https://openreview.net/forum?id=mkZB0fKLX8   \n",
       "1       3  https://openreview.net/forum?id=FNxwF8qSOc   \n",
       "2       4  https://openreview.net/forum?id=yB9AcakeIV   \n",
       "3       5  https://openreview.net/forum?id=tK2pcnNlWw   \n",
       "4       6  https://openreview.net/forum?id=AKoLN21VSu   \n",
       "\n",
       "                                               title  \\\n",
       "0  Nepotistically Trained Generative Image Models...   \n",
       "1  Understanding Private Learning From Feature Pe...   \n",
       "2  Language Model Preference Evaluation with Mult...   \n",
       "3  Explaining Length Bias in LLM-Based Preference...   \n",
       "4  Rule-Based Rating and Selection of LLM Trainin...   \n",
       "\n",
       "                                            abstract  num Reviewers  \\\n",
       "0  Trained on massive amounts of human-generated ...              2   \n",
       "1  Differentially private Stochastic Gradient Des...              2   \n",
       "2  Despite the remarkable success of Large Langua...              2   \n",
       "3  The use of large language models (LLMs) as jud...              2   \n",
       "4  The quality of training data is crucial for th...              3   \n",
       "\n",
       "   num submitted Reviewers missing Reviewers  min rating  max rating  \\\n",
       "0                        2               NaN           4           6   \n",
       "1                        2               NaN           3           8   \n",
       "2                        2               NaN           5           7   \n",
       "3                        2               NaN           6           7   \n",
       "4                        2    ~Tianhao_Wang2           6           8   \n",
       "\n",
       "   average rating  min confidence  max confidence  average confidence  \\\n",
       "0             5.0               4               4                 4.0   \n",
       "1             5.5               3               4                 3.5   \n",
       "2             6.0               3               4                 3.5   \n",
       "3             6.5               3               4                 3.5   \n",
       "4             7.0               4               4                 4.0   \n",
       "\n",
       "   num Area Chairs assigned  num submitted Area Chairs  Meta Review  \\\n",
       "0                         0                          0          NaN   \n",
       "1                         0                          0          NaN   \n",
       "2                         0                          0          NaN   \n",
       "3                         0                          0          NaN   \n",
       "4                         0                          0          NaN   \n",
       "\n",
       "          decision  \n",
       "0  Accept (Poster)  \n",
       "1  Accept (Poster)  \n",
       "2  Accept (Poster)  \n",
       "3  Accept (Poster)  \n",
       "4  Accept (Poster)  "
      ]
     },
     "execution_count": 26,
     "metadata": {},
     "output_type": "execute_result"
    }
   ],
   "source": [
    "dfp.head()"
   ]
  },
  {
   "cell_type": "code",
   "execution_count": 28,
   "id": "75f160ea",
   "metadata": {},
   "outputs": [
    {
     "data": {
      "text/plain": [
       "True"
      ]
     },
     "execution_count": 28,
     "metadata": {},
     "output_type": "execute_result"
    }
   ],
   "source": [
    "\"accept\" in dfp.iloc[0]['decision'].lower()"
   ]
  },
  {
   "cell_type": "code",
   "execution_count": 29,
   "id": "b8588442",
   "metadata": {},
   "outputs": [],
   "source": [
    "papers = []\n",
    "\n",
    "for i in range(len(dfp)):\n",
    "    row = dfp.iloc[i]\n",
    "    decision = row['decision']\n",
    "    if \"accept\" in decision.lower():\n",
    "        link = row['forum']\n",
    "        title = row['title']\n",
    "        abstract = row['abstract']\n",
    "        \n",
    "        cur_pap = {\"title\" : title,\n",
    "                   \"link\" : link,\n",
    "                   \"abstract\" : abstract,\n",
    "                   \"decision\" : decision}\n",
    "\n",
    "        papers.append(cur_pap)"
   ]
  },
  {
   "cell_type": "code",
   "execution_count": 32,
   "id": "5eb48fd2",
   "metadata": {},
   "outputs": [],
   "source": [
    "with open(\"papers.json\", \"w\") as f:\n",
    "    json.dump(papers, f)"
   ]
  },
  {
   "cell_type": "code",
   "execution_count": null,
   "id": "a7238c96",
   "metadata": {},
   "outputs": [],
   "source": []
  },
  {
   "cell_type": "code",
   "execution_count": 30,
   "id": "eb5fccba",
   "metadata": {},
   "outputs": [
    {
     "data": {
      "text/plain": [
       "85"
      ]
     },
     "execution_count": 30,
     "metadata": {},
     "output_type": "execute_result"
    }
   ],
   "source": [
    "len(papers)"
   ]
  },
  {
   "cell_type": "code",
   "execution_count": 31,
   "id": "97531195",
   "metadata": {},
   "outputs": [
    {
     "data": {
      "text/plain": [
       "{'title': 'Nepotistically Trained Generative Image Models Collapse',\n",
       " 'link': 'https://openreview.net/forum?id=mkZB0fKLX8',\n",
       " 'abstract': 'Trained on massive amounts of human-generated content, AI-generated image synthesis is capable of reproducing semantically coherent images that match the visual appearance of its training data. We show that when retrained on even small amounts of their own creation, these generative-AI models produce highly distorted images. We also show that this distortion extends beyond the text prompts used in retraining, and that once affected, the models struggle to fully heal even after retraining on only real images.',\n",
       " 'decision': 'Accept (Poster)'}"
      ]
     },
     "execution_count": 31,
     "metadata": {},
     "output_type": "execute_result"
    }
   ],
   "source": [
    "papers[0]"
   ]
  },
  {
   "cell_type": "code",
   "execution_count": null,
   "id": "f413b265",
   "metadata": {},
   "outputs": [],
   "source": []
  }
 ],
 "metadata": {
  "kernelspec": {
   "display_name": "tiger",
   "language": "python",
   "name": "python3"
  },
  "language_info": {
   "codemirror_mode": {
    "name": "ipython",
    "version": 3
   },
   "file_extension": ".py",
   "mimetype": "text/x-python",
   "name": "python",
   "nbconvert_exporter": "python",
   "pygments_lexer": "ipython3",
   "version": "3.9.18"
  }
 },
 "nbformat": 4,
 "nbformat_minor": 5
}
